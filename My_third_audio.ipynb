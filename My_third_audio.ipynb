{
 "cells": [
  {
   "cell_type": "markdown",
   "metadata": {},
   "source": [
    "# Use internal microphone to plot waveforms (Part 3:  add spectrogram)\n",
    "This script should make a continuous line plot of a sound that is picked up by the computer's microphone, a spectrum to show power, and a spectrogram to show how frequencies change in time.  It derives from https://www.youtube.com/watch?v=aQKX3mrDFoY\n",
    "\n",
    "This is a follow-on example from My_first_audio notebook and My_second_audio notebook.\n",
    "\n",
    "Note that if the speaker volume is too high, the graph will look broken (values exceeding +-128 will wrap)\n",
    "\n",
    "This uses the python module \"pyaudio\", which also needed \"portaudio\", as well as numpy and scipy (for fft)"
   ]
  },
  {
   "cell_type": "markdown",
   "metadata": {},
   "source": [
    "First, as always, we import the needed packages; in this case pyaudio to grab sound from the microphone (either internal or external), struct to convert the digital sound from packed binary to integer, numpy for array handling, scipy for fft (making spectrum) and matplotlib to plot"
   ]
  },
  {
   "cell_type": "code",
   "execution_count": 1,
   "metadata": {},
   "outputs": [],
   "source": [
    "# import standard stuff\n",
    "import numpy as np\n",
    "import time\n",
    "\n",
    "# import audio package\n",
    "import pyaudio\n",
    "\n",
    "# import struct to convert audio binary to integers\n",
    "import struct\n",
    "\n",
    "# import graphing modules\n",
    "import matplotlib.pyplot as plt\n",
    "from matplotlib.gridspec import GridSpec\n",
    "from tkinter import TclError\n",
    "\n",
    "# import modules for spectrum calculations\n",
    "from scipy.fftpack import fft\n",
    "from matplotlib.mlab import window_hanning,specgram\n",
    "from matplotlib.colors import LogNorm"
   ]
  },
  {
   "cell_type": "markdown",
   "metadata": {},
   "source": [
    "This \"backend\" will allow plots to come up outside the jupyter browser (as popups)"
   ]
  },
  {
   "cell_type": "code",
   "execution_count": 2,
   "metadata": {},
   "outputs": [],
   "source": [
    "%matplotlib tk"
   ]
  },
  {
   "cell_type": "markdown",
   "metadata": {},
   "source": [
    "Here we define a segment of sound to process.  This essentially takes a continuous time-series and makes it a set of finite-length signals.  These will be the number of samples per frame.  Here we use 1024 * 4, or 4096.  The format here is 16-bit integer, channel is 1 for the machines internal mic being mono (not stereo), and the rate is a somewhat standard 44.1 kHz"
   ]
  },
  {
   "cell_type": "code",
   "execution_count": 3,
   "metadata": {},
   "outputs": [],
   "source": [
    "CHUNK = 1024 * 4\n",
    "FORMAT = pyaudio.paInt16\n",
    "CHANNELS = 1\n",
    "RATE = 44100\n",
    "SAMPLES_PER_FRAME = 10"
   ]
  },
  {
   "cell_type": "markdown",
   "metadata": {},
   "source": [
    "Next, we create a stream using the variables defined above.  Here I'm not sure why we're using integer 16, only later to change to integer 8"
   ]
  },
  {
   "cell_type": "code",
   "execution_count": 4,
   "metadata": {},
   "outputs": [],
   "source": [
    "# define class instance \"p\" \n",
    "p = pyaudio.PyAudio()\n",
    "\n",
    "# define object \"stream\" based on \"p\"\n",
    "stream = p.open(\n",
    "    format = FORMAT,\n",
    "    channels = CHANNELS,\n",
    "    rate = RATE,\n",
    "    input = True,\n",
    "    output = True,\n",
    "    frames_per_buffer = CHUNK\n",
    ")"
   ]
  },
  {
   "cell_type": "markdown",
   "metadata": {},
   "source": [
    "This next code block is where we define all the graph parameters.  We will have three graphs on a page, the first one (waveform) will extend across the top row; the next two will be below."
   ]
  },
  {
   "cell_type": "code",
   "execution_count": 5,
   "metadata": {},
   "outputs": [],
   "source": [
    "# define our graph object \"fig\"\n",
    "fig = plt.figure(constrained_layout=True)\n",
    "\n",
    "# setup three graphs; the first is in the first row and extends over two columns\n",
    "# the next two are in the second row, one in the first column the other in the second column\n",
    "gs = GridSpec(2,2, figure=fig)\n",
    "ax1 = fig.add_subplot(gs[0,0:2])\n",
    "ax2 = fig.add_subplot(gs[1,0])\n",
    "ax3 = fig.add_subplot(gs[1,1])\n",
    "\n",
    "# define the parameters for the waveform time-series\n",
    "x_time = np.linspace(0,CHUNK/RATE,CHUNK)\n",
    "line, = ax1.plot(x_time, np.random.rand(CHUNK), '-', lw=1)\n",
    "ax1.set_title('Audio Waveform')\n",
    "ax1.set_xlabel('time (seconds)')\n",
    "ax1.set_ylabel('amplitude')\n",
    "ax1.set_xlim(0,CHUNK/RATE)\n",
    "ax1.set_ylim(-150, 150)\n",
    "#plt.setp(ax1, xticks=[0, CHUNK/2, CHUNK, 3* CHUNK/2, 2*CHUNK], yticks=[-128, 0, 128])\n",
    "\n",
    "# define parameters for spectrum plot\n",
    "x_freq = np.linspace(0, RATE, CHUNK)\n",
    "line_fft, = ax2.semilogx(x_freq, np.random.rand(CHUNK), '-', lw=1)\n",
    "ax2.set_title('Audio Spectrum')\n",
    "ax2.set_xlabel('frequency (cycles/second [Hz])')\n",
    "ax2.set_ylabel('power')\n",
    "ax2.set_xlim(20,RATE/2)\n",
    "ax2.set_ylim(0,0.25)\n",
    "#plt.setp(ax2, xticks=np.arange(0, 1500, step=100), yticks=[0,0.05,0.1,0.15,0.2,0.25])\n",
    "\n",
    "# get the spectrogram information\n",
    "# method1\n",
    "#arr2D,freqs,bins = specgram(x_time,window=window_hanning,\n",
    "#                                Fs = RATE,NFFT=1024,noverlap=512)\n",
    "#extent = (bins[0],bins[-1]*SAMPLES_PER_FRAME,freqs[-1],freqs[0])\n",
    "#im = plt.imshow(arr2D,aspect='auto',extent = extent,interpolation=\"none\",\n",
    "#                cmap = 'jet',norm = LogNorm(vmin=.01,vmax=1))\n",
    "# method2\n",
    "x_spec = np.linspace(0,CHUNK,RATE)\n",
    "Pxx, freqs, bins, im = ax3.specgram(x_spec, NFFT=2048, Fs=RATE, noverlap=256)\n",
    "ax3.set_title('Real Time Spectrogram')\n",
    "ax3.set_xlabel('Time (s)')\n",
    "ax3.set_ylabel('Frequency (Hz)')\n",
    "ax3.set_ylim(0,1000)\n",
    "#ax3.invert_yaxis()\n",
    "#ax3.colorbar()\n",
    "\n",
    "plt.show(block=False)"
   ]
  },
  {
   "cell_type": "code",
   "execution_count": 6,
   "metadata": {},
   "outputs": [
    {
     "data": {
      "text/plain": [
       "(44100, 24, 1025, 24600, 44100)"
      ]
     },
     "execution_count": 6,
     "metadata": {},
     "output_type": "execute_result"
    }
   ],
   "source": [
    "len(x_spec),len(bins),len(freqs),Pxx.size,(len(x_spec))"
   ]
  },
  {
   "cell_type": "code",
   "execution_count": 7,
   "metadata": {},
   "outputs": [
    {
     "name": "stdout",
     "output_type": "stream",
     "text": [
      "stream started\n"
     ]
    }
   ],
   "source": [
    "print('stream started')"
   ]
  },
  {
   "cell_type": "code",
   "execution_count": 8,
   "metadata": {},
   "outputs": [],
   "source": [
    "frame_count = 0\n",
    "start_time = time.time()"
   ]
  },
  {
   "cell_type": "code",
   "execution_count": 9,
   "metadata": {},
   "outputs": [
    {
     "name": "stderr",
     "output_type": "stream",
     "text": [
      "/anaconda3/lib/python3.7/site-packages/matplotlib/axes/_axes.py:7609: RuntimeWarning: divide by zero encountered in log10\n",
      "  Z = 10. * np.log10(spec)\n",
      "/anaconda3/lib/python3.7/site-packages/matplotlib/image.py:395: UserWarning: Warning: converting a masked element to nan.\n",
      "  dv = (np.float64(self.norm.vmax) -\n",
      "/anaconda3/lib/python3.7/site-packages/matplotlib/image.py:396: UserWarning: Warning: converting a masked element to nan.\n",
      "  np.float64(self.norm.vmin))\n",
      "/anaconda3/lib/python3.7/site-packages/matplotlib/image.py:403: UserWarning: Warning: converting a masked element to nan.\n",
      "  a_min = np.float64(newmin)\n",
      "/anaconda3/lib/python3.7/site-packages/matplotlib/image.py:408: UserWarning: Warning: converting a masked element to nan.\n",
      "  a_max = np.float64(newmax)\n",
      "/anaconda3/lib/python3.7/site-packages/matplotlib/colors.py:918: UserWarning: Warning: converting a masked element to nan.\n",
      "  dtype = np.min_scalar_type(value)\n",
      "/anaconda3/lib/python3.7/site-packages/numpy/ma/core.py:718: UserWarning: Warning: converting a masked element to nan.\n",
      "  data = np.array(a, copy=False, subok=subok)\n"
     ]
    },
    {
     "name": "stdout",
     "output_type": "stream",
     "text": [
      "stream stopped\n",
      "average frame rate = 1.712777 FPS\n"
     ]
    }
   ],
   "source": [
    "while True:\n",
    "# the data are read, one \"CHUNK\" at a time; the return will be raw bytes (8 bits)    \n",
    "    data = stream.read(CHUNK,exception_on_overflow=False)\n",
    "# the raw bytes are now converted to 16-bit signed integers (-128 to 128); and note we\n",
    "# double the size of the array, so use 2*CHUNK\n",
    "    data_int = struct.unpack(str(2*CHUNK)+'B',data)\n",
    "# finally, we take every other point\n",
    "    data_np = np.array(data_int,dtype='b')[::2]\n",
    "    \n",
    "# frist we plot the raw data as a waveform\n",
    "    line.set_ydata(data_np)\n",
    "# second we plot the spectrum\n",
    "    y_fft = fft(data_np)\n",
    "    line_fft.set_ydata(np.abs(y_fft)*2/(256*CHUNK))\n",
    "# third we plot the spectrogram\n",
    "#    arr2D,freqs,bins = specgram(data_np,window=window_hanning,\n",
    "#                                Fs = 2, NFFT=2048,noverlap=2)\n",
    "#    plt.imshow(arr2D,aspect='auto',extent = extent,interpolation=\"none\",\n",
    "#             cmap = 'jet',norm = LogNorm(vmin=.01,vmax=100))\n",
    "    Pxx, freqs, bins, im = ax3.specgram(data_np, NFFT=128, Fs=RATE, noverlap=0)\n",
    "#    im.set_data(Pxx)\n",
    "    ax3.set_xlim(0,CHUNK/RATE)\n",
    "    ax3.set_ylim(0,10000)\n",
    "\n",
    "    try:\n",
    "        fig.canvas.draw()\n",
    "        fig.canvas.flush_events()\n",
    "        frame_count += 1\n",
    "\n",
    "    except TclError:\n",
    "        frame_rate = frame_count / (time.time() - start_time)\n",
    "        print('stream stopped')\n",
    "        print('average frame rate = {:0f} FPS'.format(frame_rate))\n",
    "        break\n"
   ]
  },
  {
   "cell_type": "code",
   "execution_count": null,
   "metadata": {},
   "outputs": [],
   "source": []
  }
 ],
 "metadata": {
  "kernelspec": {
   "display_name": "Python 3",
   "language": "python",
   "name": "python3"
  },
  "language_info": {
   "codemirror_mode": {
    "name": "ipython",
    "version": 3
   },
   "file_extension": ".py",
   "mimetype": "text/x-python",
   "name": "python",
   "nbconvert_exporter": "python",
   "pygments_lexer": "ipython3",
   "version": "3.7.0"
  }
 },
 "nbformat": 4,
 "nbformat_minor": 2
}
