{
 "cells": [
  {
   "cell_type": "markdown",
   "metadata": {},
   "source": [
    "# Audio files\n",
    "\n",
    "This notebook provides an overview with links to my various python scripts for audio data.\n",
    "\n",
    "__J. Potemra__\n",
    "<br>\n",
    "_December 2018_"
   ]
  },
  {
   "cell_type": "markdown",
   "metadata": {},
   "source": [
    "## Introduction\n",
    "\n",
    "In this introduction, I show how to make a simple waveform in python (a sine curve) and plot it.  Next, this waveform is \"played\" as an audio file (using ipd.Audio).  Finally, a spectrum is computing using numpy fft and a spectrogram using matplotlib specgram.  A final example of combining different frequencies into a single waveform is given.  This plays a little tune and shows the utility of spectra.\n",
    "\n",
    "The keys to this are:\n",
    "* making a simple time-series with numpy and plotting it with matplotlib (plt.plot)\n",
    "* computing and plotting the spectrum with numpy fft module (np.fft)\n",
    "* computing and plotting the spectrogram with matplotlib specgram (plt.specgram)\n",
    "\n",
    "[Intro_audio](Intro_audio.ipynb)"
   ]
  },
  {
   "cell_type": "markdown",
   "metadata": {},
   "source": [
    "## 1.  Animated waveform\n",
    "\n",
    "This first example shows how to access sound from the computer's internal (or attached) microphone and make an animated waveform plot.  The plot changes dynamically as an animation.  The script shows to use the tk backend to show plots in a separate window and the PyAudio module for accessing streaming audio.\n",
    "\n",
    "Keys in this script:\n",
    "* tk backend for separate plots\n",
    "* pyaudio for reading from the microphone in real-time\n",
    "* converting the bit-stream to integers (struct)\n",
    "* making a line plot that animates\n",
    "\n",
    "[My_first_audio](My_first_audio.ipynb)"
   ]
  },
  {
   "cell_type": "markdown",
   "metadata": {},
   "source": [
    "## 2.  Animated waveform with spectrum\n",
    "This second example is like the first but adds an animated spectrum.  In this case (unlike the intro) it uses the scipy fft module.  The script also introduces the \"subplot\" feature to include multiple plots on a page.\n",
    "\n",
    "Other additions:\n",
    "* introduction of python time module to show real time\n",
    "* subplot with two rows (waveform and spectrum)\n",
    "* spectrum from scipy.fftpack.fft (as opposed to numpy.fft)\n",
    "* there is also a cleaner exit (control-C)\n",
    "\n",
    "[My_second_audio](My_second_audio.ipynb)"
   ]
  },
  {
   "cell_type": "markdown",
   "metadata": {},
   "source": [
    "## 3.  Animated waveform, spectrum and spectrogram\n",
    "Continuing on with our example, this script adds an additional window with an animated spectrogram.  All are made from streaming audio supplied by the computer (and accessed with the internal microphone).\n",
    "\n",
    "Keys in this script:\n",
    "* makes subplots with unequal rows/columns (GridSpec)\n",
    "* spectrogram is done with specgram from matplotlib.mlab\n",
    "\n",
    "[My_third_audio](My_third_audio.ipynb)"
   ]
  },
  {
   "cell_type": "markdown",
   "metadata": {},
   "source": [
    "## 4.  Reading from files\n",
    "This script is somewhat different from the previous three in two ways.  First, it does not access sound in real time but instead reads wav files.  Second, there is no animation done, just static plots.  In this example we use a new module \"librosa\".  This is used to read sound files as well as displaying the waveforms (librosa does this a little more automatically).\n",
    "\n",
    "New features in this script:\n",
    "* use librosa module\n",
    "* read from file instead of mic (no longer need pyaudio)\n",
    "* waveform and spectrogram are plotted using librosa\n",
    "* shows how to write wav files (again, using librosa)\n",
    "\n",
    "[My_fourth_audio](My_fourth_audio.ipynb)"
   ]
  },
  {
   "cell_type": "markdown",
   "metadata": {},
   "source": [
    "## 5.  Using gr and gr3 to plot animated spectrogram (from wav file)\n",
    "Yet another tool for plotting is the GR framework (https://gr-framework.org/python-gr.html).  This script shows how to use GR to make a 3D, animated spectrogram.\n",
    "\n",
    "Notes:\n",
    "* gr and gr3 modules\n",
    "* perspective, 3D animation\n",
    "* attempt to read from file\n",
    "\n",
    "[My_fifth_audio](My_fifth_audio.ipynb)"
   ]
  },
  {
   "cell_type": "markdown",
   "metadata": {},
   "source": [
    "## 6.  Using gr and gr3 to plot animated spectrogram (from microphone)\n",
    "Like the previous script, this plots an animated spectrogram in 3D using the gr/gr3 graphics.  One key here is getting the ranges and sampling correct.\n",
    "\n",
    "Notes:\n",
    "* gr and gr3 modules\n",
    "* perspective, 3D animation\n",
    "* attempt to use microphone\n",
    "\n",
    "[My_sixth_audio](My_sixth_audio.ipynb)"
   ]
  }
 ],
 "metadata": {
  "kernelspec": {
   "display_name": "Python 3",
   "language": "python",
   "name": "python3"
  },
  "language_info": {
   "codemirror_mode": {
    "name": "ipython",
    "version": 3
   },
   "file_extension": ".py",
   "mimetype": "text/x-python",
   "name": "python",
   "nbconvert_exporter": "python",
   "pygments_lexer": "ipython3",
   "version": "3.7.1"
  }
 },
 "nbformat": 4,
 "nbformat_minor": 2
}
