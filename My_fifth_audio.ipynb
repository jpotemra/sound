{
 "cells": [
  {
   "cell_type": "markdown",
   "metadata": {},
   "source": [
    "# Read .wav file and make 3-D animated spectrogram\n",
    "\n",
    "This script uses the GR framework to make an animated 3d spectrogram from a sound file.  More details on the GR framework are at https://gr-framework.org/index.html\n",
    "<br>\n",
    "One on-going problem is how to view the output.  The script works great when run as python script, but within the jupyter notebook all I can do is save a quicktime movie.  A question has been posted to StackOverflow."
   ]
  },
  {
   "cell_type": "code",
   "execution_count": 1,
   "metadata": {},
   "outputs": [],
   "source": [
    "# import standard modules; note we need pyaudio and struct like before, added this time is\n",
    "# gr and gr3\n",
    "import os, wave, pyaudio\n",
    "import numpy as np\n",
    "import gr\n",
    "import gr3"
   ]
  },
  {
   "cell_type": "markdown",
   "metadata": {},
   "source": [
    "Here's an attempt to include the output within the notebook.  This gives an error \"No video with supported format and MIME type found\".  What it does do is save a quicktime movie (gks.mov) file (no sound though...)\n",
    "Conversely, I can can't figure out how to get the output into a separate window."
   ]
  },
  {
   "cell_type": "code",
   "execution_count": 2,
   "metadata": {},
   "outputs": [],
   "source": [
    "gr.inline(\"mp4\")"
   ]
  },
  {
   "cell_type": "code",
   "execution_count": 3,
   "metadata": {},
   "outputs": [],
   "source": [
    "# set sampling frequency (usually 44100)\n",
    "RATE = 44100\n",
    "# set samples per plot\n",
    "CHUNK = 2048\n",
    "\n",
    "dt = CHUNK/RATE\n",
    "df = RATE/CHUNK/4\n",
    "spectrum = np.zeros((256, 64), dtype=float)"
   ]
  },
  {
   "cell_type": "markdown",
   "metadata": {},
   "source": [
    "Read a wav file as input"
   ]
  },
  {
   "cell_type": "code",
   "execution_count": 4,
   "metadata": {},
   "outputs": [],
   "source": [
    "wf = wave.open(('/Users/jimp/python_examples/sound/sound_files/T08-violin.wav'), 'rb')"
   ]
  },
  {
   "cell_type": "markdown",
   "metadata": {},
   "source": [
    "Setup pyaudio to read from file (wf)"
   ]
  },
  {
   "cell_type": "code",
   "execution_count": 5,
   "metadata": {},
   "outputs": [],
   "source": [
    "# Before we specified this as:\n",
    "#   format = pyaudio.paInt16\n",
    "#   channels = 1\n",
    "#   rate = RATE\n",
    "#   output to True\n",
    "\n",
    "pa = pyaudio.PyAudio()\n",
    "stream = pa.open(format=pa.get_format_from_width(wf.getsampwidth()),\n",
    "                 channels=wf.getnchannels(), rate=wf.getframerate(), output=True)"
   ]
  },
  {
   "cell_type": "code",
   "execution_count": 6,
   "metadata": {},
   "outputs": [],
   "source": [
    "# set initial time (arbitrary?  but this will start at t, if negative get white space\n",
    "#   in the graph until t reaches zero). I think since we set the spectrum to be 256 x 64, this\n",
    "#   gives us each column\n",
    "t = -63"
   ]
  },
  {
   "cell_type": "markdown",
   "metadata": {},
   "source": [
    "We want to display a moving spectrogram (aka waterfall plot).  One axis will be frequency, and the other time.  The time part will scroll.  The spectra values will be colorshaded as well as height along the z-axis.\n",
    "\n",
    "The gr module documentation is at https://gr-framework.org/_modules/gr.html"
   ]
  },
  {
   "cell_type": "code",
   "execution_count": 7,
   "metadata": {},
   "outputs": [],
   "source": [
    "# read from the wav file a \"CHUNK's worth\" of data\n",
    "data = wf.readframes(CHUNK)\n",
    "\n",
    "# now loop over all \"CHUNKS\"\n",
    "while data != '' and len(data) == CHUNK * wf.getsampwidth():\n",
    "    stream.write(data)\n",
    "    amplitudes = np.fromstring(data, dtype=np.short)\n",
    "    S2 = int(CHUNK/2)\n",
    "#    power = abs(np.fft.fft(amplitudes / 32768.0))[:CHUNK/2]\n",
    "    power = abs(np.fft.fft(amplitudes / 32768.0))[:S2]\n",
    "\n",
    "    gr.clearws()\n",
    "# here we compute the spectrum, then \"roll\" every point (this makes the spectrogram appear\n",
    "# to scroll; a +1 would scroll right one each time-step, while a -1 would scroll left)    \n",
    "    spectrum[:, 63] = power[:256]\n",
    "    spectrum = np.roll(spectrum, -1)\n",
    "    \n",
    "# specify the colormap; don't know where these are defined\n",
    "    gr.setcolormap(-113)\n",
    "    \n",
    "# set the (xmin,xmax,ymin,ymax) of the viewport; these are defined 0 to 1, so a value\n",
    "#   of (0,1,0,1) means the graphic will go right to the edge of the page (no white space)\n",
    "    gr.setviewport(0.05, 0.95, 0.1, 1)\n",
    "    \n",
    "# set the graph range (xmin,xmax,ymin,ymax)\n",
    "#   here we will have a graph with a constant y-axis (frequency) and an x-axis that\n",
    "#   is fixed width (64 time-steps) but changes with each delta-t\n",
    "    gr.setwindow(t * dt, (t + 63) * dt, 0, df)\n",
    "    \n",
    "# set zmin, zmax, rotation of x-axis, and z-axis tilt\n",
    "#    x-axis rotation 0 means horizontal along x\n",
    "#    x-axis rotation 45 means x runs SE (origin) to NW (max x)\n",
    "#    z-axis tilt 0 means a view from the \"table edge\"\n",
    "#    z-axis tilt 90 means a view from the \"table top\"for 3-D plot set zmin, zmax, rotation of x-axis, tilt\n",
    "    gr.setspace(0, 256, 30, 80)\n",
    "    \n",
    "# draw surface ( x-coord, y-coord, z-coord, type ) where\n",
    "#    type = 0: lines\n",
    "#           1: mesh\n",
    "#           2: filled mesh\n",
    "#           3: z-shaded mesh\n",
    "#           4: colored mesh\n",
    "#           5: cell array\n",
    "#           6: shaded mesh\n",
    "    gr3.surface((t + np.arange(64)) * dt, np.linspace(0, df, 256), spectrum, 4)\n",
    "\n",
    "# set the axis type (can be FLIP and/or LOG for each axis, e.g., OPTION_Y_LOG, OPTION_FLIP_Y)\n",
    "#    gr.setscale()\n",
    "\n",
    "# set axes/ticks (x-tick interval, y-tick interval, z-tick interval, \n",
    "#                 x-origin, y-origin, z-origin, number of minor tick\n",
    "#                 marks between major tick marks (x, y, z), tick size\n",
    "#                 negative for outward facing)\n",
    "    gr.axes3d(0.2, 0.2, 0, (t + 63) * dt, 0, 0, 5, 5, 0, 0.01)\n",
    "    \n",
    "# label graph\n",
    "    gr.titles3d('t [s]', 'f [kHz]', '')\n",
    "    \n",
    "# update graphic    \n",
    "    gr.updatews()\n",
    "\n",
    "    data = wf.readframes(CHUNK)\n",
    "    t += 1"
   ]
  },
  {
   "cell_type": "code",
   "execution_count": 8,
   "metadata": {},
   "outputs": [],
   "source": [
    "gr.show()"
   ]
  },
  {
   "cell_type": "code",
   "execution_count": null,
   "metadata": {},
   "outputs": [],
   "source": []
  },
  {
   "cell_type": "code",
   "execution_count": null,
   "metadata": {},
   "outputs": [],
   "source": []
  }
 ],
 "metadata": {
  "kernelspec": {
   "display_name": "Python 3",
   "language": "python",
   "name": "python3"
  },
  "language_info": {
   "codemirror_mode": {
    "name": "ipython",
    "version": 3
   },
   "file_extension": ".py",
   "mimetype": "text/x-python",
   "name": "python",
   "nbconvert_exporter": "python",
   "pygments_lexer": "ipython3",
   "version": "3.7.0"
  }
 },
 "nbformat": 4,
 "nbformat_minor": 2
}
